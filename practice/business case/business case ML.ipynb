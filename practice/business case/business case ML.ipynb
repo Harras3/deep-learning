{
 "cells": [
  {
   "cell_type": "code",
   "execution_count": 1,
   "metadata": {},
   "outputs": [],
   "source": [
    "import numpy as np\n",
    "import tensorflow as tf"
   ]
  },
  {
   "cell_type": "code",
   "execution_count": 2,
   "metadata": {},
   "outputs": [],
   "source": [
    "npz = np.load('Audio_data_train.npz')\n",
    "train_inputs = npz['inputs'].astype(np.float)\n"
   ]
  },
  {
   "cell_type": "code",
   "execution_count": 3,
   "metadata": {},
   "outputs": [],
   "source": [
    "train_targets = npz['targets'].astype(np.int)"
   ]
  },
  {
   "cell_type": "code",
   "execution_count": 4,
   "metadata": {},
   "outputs": [],
   "source": [
    "npz = np.load('Audio_data_validation.npz')\n",
    "validation_inputs, validation_targets = npz['inputs'].astype(np.float), npz['targets'].astype(np.int)"
   ]
  },
  {
   "cell_type": "code",
   "execution_count": 5,
   "metadata": {},
   "outputs": [],
   "source": [
    "npz = np.load('Audio_data_test.npz')\n",
    "test_inputs, test_targets = npz['inputs'].astype(np.float), npz['targets'].astype(np.int)"
   ]
  },
  {
   "cell_type": "code",
   "execution_count": 26,
   "metadata": {
    "scrolled": true
   },
   "outputs": [
    {
     "name": "stdout",
     "output_type": "stream",
     "text": [
      "Epoch 1/100\n",
      "36/36 - 0s - loss: 0.5664 - accuracy: 0.7276 - val_loss: 0.4831 - val_accuracy: 0.7718\n",
      "Epoch 2/100\n",
      "36/36 - 0s - loss: 0.4627 - accuracy: 0.7569 - val_loss: 0.4185 - val_accuracy: 0.7539\n",
      "Epoch 3/100\n",
      "36/36 - 0s - loss: 0.4161 - accuracy: 0.7709 - val_loss: 0.3835 - val_accuracy: 0.7987\n",
      "Epoch 4/100\n",
      "36/36 - 0s - loss: 0.3928 - accuracy: 0.7944 - val_loss: 0.3672 - val_accuracy: 0.8255\n",
      "Epoch 5/100\n",
      "36/36 - 0s - loss: 0.3765 - accuracy: 0.7991 - val_loss: 0.3675 - val_accuracy: 0.7987\n",
      "Epoch 6/100\n",
      "36/36 - 0s - loss: 0.3673 - accuracy: 0.7963 - val_loss: 0.3544 - val_accuracy: 0.8210\n",
      "Epoch 7/100\n",
      "36/36 - 0s - loss: 0.3613 - accuracy: 0.8033 - val_loss: 0.3416 - val_accuracy: 0.8322\n",
      "Epoch 8/100\n",
      "36/36 - 0s - loss: 0.3554 - accuracy: 0.8089 - val_loss: 0.3358 - val_accuracy: 0.8210\n",
      "Epoch 9/100\n",
      "36/36 - 0s - loss: 0.3508 - accuracy: 0.8075 - val_loss: 0.3365 - val_accuracy: 0.8300\n",
      "Epoch 10/100\n",
      "36/36 - 0s - loss: 0.3454 - accuracy: 0.8106 - val_loss: 0.3348 - val_accuracy: 0.8255\n",
      "Epoch 11/100\n",
      "36/36 - 0s - loss: 0.3430 - accuracy: 0.8148 - val_loss: 0.3285 - val_accuracy: 0.8233\n",
      "Epoch 12/100\n",
      "36/36 - 0s - loss: 0.3408 - accuracy: 0.8131 - val_loss: 0.3225 - val_accuracy: 0.8389\n",
      "Epoch 13/100\n",
      "36/36 - 0s - loss: 0.3397 - accuracy: 0.8086 - val_loss: 0.3523 - val_accuracy: 0.8054\n",
      "Epoch 14/100\n",
      "36/36 - 0s - loss: 0.3413 - accuracy: 0.8094 - val_loss: 0.3214 - val_accuracy: 0.8322\n",
      "Epoch 15/100\n",
      "36/36 - 0s - loss: 0.3354 - accuracy: 0.8167 - val_loss: 0.3221 - val_accuracy: 0.8300\n",
      "Epoch 16/100\n",
      "36/36 - 0s - loss: 0.3323 - accuracy: 0.8223 - val_loss: 0.3326 - val_accuracy: 0.8345\n"
     ]
    },
    {
     "data": {
      "text/plain": [
       "<tensorflow.python.keras.callbacks.History at 0x17dacab19d0>"
      ]
     },
     "execution_count": 26,
     "metadata": {},
     "output_type": "execute_result"
    }
   ],
   "source": [
    "\n",
    "input_size = 10\n",
    "output_size = 2\n",
    "hidden_layer_size = 50\n",
    "model = tf.keras.Sequential([\n",
    "                            tf.keras.layers.Dense(hidden_layer_size, activation='relu'),    \n",
    "                            tf.keras.layers.Dense(hidden_layer_size, activation='relu'),\n",
    "                            tf.keras.layers.Dense(output_size, activation='softmax')\n",
    "                           ])\n",
    "model.compile(optimizer='adam',loss='sparse_categorical_crossentropy' , metrics = ['accuracy'])\n",
    "batch_size = 100\n",
    "max_epochs = 100\n",
    "\n",
    "early_stopping = tf.keras.callbacks.EarlyStopping(patience=2)\n",
    "\n",
    "model.fit(train_inputs,train_targets,batch_size = batch_size, epochs = max_epochs,callbacks=[early_stopping], validation_data=(validation_inputs,validation_targets),verbose=2)"
   ]
  },
  {
   "cell_type": "code",
   "execution_count": 27,
   "metadata": {},
   "outputs": [
    {
     "name": "stdout",
     "output_type": "stream",
     "text": [
      "14/14 [==============================] - 0s 804us/step - loss: 0.3307 - accuracy: 0.8214\n"
     ]
    }
   ],
   "source": [
    "test_loss , test_accuracy = model.evaluate(test_inputs,test_targets)"
   ]
  },
  {
   "cell_type": "code",
   "execution_count": null,
   "metadata": {},
   "outputs": [],
   "source": []
  }
 ],
 "metadata": {
  "kernelspec": {
   "display_name": "Python [conda env:py3-TF2.0]",
   "language": "python",
   "name": "conda-env-py3-TF2.0-py"
  },
  "language_info": {
   "codemirror_mode": {
    "name": "ipython",
    "version": 3
   },
   "file_extension": ".py",
   "mimetype": "text/x-python",
   "name": "python",
   "nbconvert_exporter": "python",
   "pygments_lexer": "ipython3",
   "version": "3.8.8"
  }
 },
 "nbformat": 4,
 "nbformat_minor": 4
}
