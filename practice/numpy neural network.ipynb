{
 "cells": [
  {
   "cell_type": "code",
   "execution_count": 3,
   "metadata": {},
   "outputs": [],
   "source": [
    "import numpy as np\n",
    "import matplotlib.pyplot as plt\n",
    "from mpl_toolkits.mplot3d import Axes3D "
   ]
  },
  {
   "cell_type": "code",
   "execution_count": 12,
   "metadata": {},
   "outputs": [],
   "source": [
    "observations = 1000\n",
    "xs = np.random.uniform(low=-10,high=10,size=(observations,1))\n",
    "zs = np.random.uniform(-10,10,(observations,1))"
   ]
  },
  {
   "cell_type": "code",
   "execution_count": 13,
   "metadata": {},
   "outputs": [],
   "source": [
    "inputs = np.column_stack((xs,zs))"
   ]
  },
  {
   "cell_type": "code",
   "execution_count": 14,
   "metadata": {
    "scrolled": true
   },
   "outputs": [
    {
     "data": {
      "text/plain": [
       "(1000, 2)"
      ]
     },
     "execution_count": 14,
     "metadata": {},
     "output_type": "execute_result"
    }
   ],
   "source": [
    "inputs.shape"
   ]
  },
  {
   "cell_type": "code",
   "execution_count": 15,
   "metadata": {},
   "outputs": [],
   "source": [
    "noise = np.random.uniform(-1,1,(observations,1))"
   ]
  },
  {
   "cell_type": "code",
   "execution_count": 16,
   "metadata": {},
   "outputs": [],
   "source": [
    "targets = 2*xs -3*zs + 5 + noise"
   ]
  },
  {
   "cell_type": "code",
   "execution_count": 22,
   "metadata": {},
   "outputs": [],
   "source": [
    "init_range = 0.1\n",
    "weights  = np.random.uniform(-init_range,init_range,size=(2,1))\n",
    "biases  = np.random.uniform(-init_range,init_range,size=1)"
   ]
  },
  {
   "cell_type": "code",
   "execution_count": 23,
   "metadata": {},
   "outputs": [
    {
     "data": {
      "text/plain": [
       "(array([[-0.0873709 ],\n",
       "        [ 0.04659261]]),\n",
       " array([-0.02297396]))"
      ]
     },
     "execution_count": 23,
     "metadata": {},
     "output_type": "execute_result"
    }
   ],
   "source": [
    "weights,biases"
   ]
  },
  {
   "cell_type": "code",
   "execution_count": 24,
   "metadata": {},
   "outputs": [],
   "source": [
    "learning_rate = 0.02"
   ]
  },
  {
   "cell_type": "code",
   "execution_count": 38,
   "metadata": {},
   "outputs": [
    {
     "name": "stdout",
     "output_type": "stream",
     "text": [
      "0.17299624246562598\n",
      "0.17283121003589774\n",
      "0.1726726691104231\n",
      "0.17252036434770596\n",
      "0.1723740504500365\n",
      "0.17223349176842162\n",
      "0.17209846192305459\n",
      "0.17196874343871507\n",
      "0.17184412739450955\n",
      "0.17172441308738895\n",
      "0.17160940770890226\n",
      "0.17149892603466468\n",
      "0.17139279012604083\n",
      "0.17129082904356122\n",
      "0.17119287857161247\n",
      "0.17109878095395625\n",
      "0.1710083846396515\n",
      "0.17092154403897103\n",
      "0.17083811928891823\n",
      "0.17075797602796844\n",
      "0.17068098517966998\n",
      "0.1706070227447569\n",
      "0.17053596960143963\n",
      "0.17046771131355054\n",
      "0.17040213794623685\n",
      "0.17033914388890195\n",
      "0.17027862768511265\n",
      "0.1702204918691958\n",
      "0.1701646428092634\n",
      "0.17011099055641118\n",
      "0.17005944869985012\n",
      "0.170009934227735\n",
      "0.16996236739346818\n",
      "0.1699166715872621\n",
      "0.16987277321275387\n",
      "0.16983060156847268\n",
      "0.16979008873397008\n",
      "0.16975116946042948\n",
      "0.16971378106557833\n",
      "0.1696778633327335\n",
      "0.16964335841381814\n",
      "0.1696102107361933\n",
      "0.16957836691315417\n",
      "0.16954777565794707\n",
      "0.1695183877011682\n",
      "0.16949015571141177\n",
      "0.16946303421904008\n",
      "0.1694369795429504\n",
      "0.16941194972022397\n",
      "0.1693879044385418\n",
      "0.16936480497125847\n",
      "0.16934261411503024\n",
      "0.16932129612989683\n",
      "0.1693008166817188\n",
      "0.16928114278688072\n",
      "0.16926224275916815\n",
      "0.16924408615873524\n",
      "0.16922664374307886\n",
      "0.1692098874199414\n",
      "0.1691937902020665\n",
      "0.16917832616373374\n",
      "0.1691634703990038\n",
      "0.16914919898160552\n",
      "0.1691354889264006\n",
      "0.16912231815236506\n",
      "0.16910966544702555\n",
      "0.16909751043229546\n",
      "0.16908583353165454\n",
      "0.16907461593861933\n",
      "0.16906383958645443\n",
      "0.16905348711907406\n",
      "0.16904354186308934\n",
      "0.16903398780095427\n",
      "0.169024809545169\n",
      "0.16901599231349604\n",
      "0.1690075219051536\n",
      "0.16899938467794334\n",
      "0.16899156752627903\n",
      "0.16898405786007906\n",
      "0.168976843584489\n",
      "0.16896991308040224\n",
      "0.1689632551857464\n",
      "0.1689568591775062\n",
      "0.16895071475445303\n",
      "0.1689448120205542\n",
      "0.1689391414690348\n",
      "0.16893369396706606\n",
      "0.16892846074105677\n",
      "0.16892343336252208\n",
      "0.16891860373450948\n",
      "0.16891396407855774\n",
      "0.16890950692216936\n",
      "0.16890522508677502\n",
      "0.16890111167617294\n",
      "0.16889716006542108\n",
      "0.16889336389016787\n",
      "0.16888971703640152\n",
      "0.16888621363060338\n",
      "0.16888284803028814\n",
      "0.16887961481491556\n"
     ]
    }
   ],
   "source": [
    "for i in range(100):\n",
    "    outputs = np.dot(inputs,weights) + biases\n",
    "    deltas = outputs - targets\n",
    "    loss = np.sum(deltas**2)/ 2 / observations\n",
    "    print(loss)\n",
    "    deltas_scaled = deltas / observations\n",
    "    weights = weights - learning_rate * np.dot(inputs.T,deltas_scaled)\n",
    "    biases = biases -learning_rate * np.sum(deltas_scaled)"
   ]
  },
  {
   "cell_type": "code",
   "execution_count": 39,
   "metadata": {},
   "outputs": [
    {
     "name": "stdout",
     "output_type": "stream",
     "text": [
      "[[ 2.0004601 ]\n",
      " [-3.00222321]] [5.0033031]\n"
     ]
    }
   ],
   "source": [
    "print(weights,biases)"
   ]
  },
  {
   "cell_type": "code",
   "execution_count": 40,
   "metadata": {},
   "outputs": [
    {
     "data": {
      "text/plain": [
       "<matplotlib.collections.PathCollection at 0x1d8c0b69dc0>"
      ]
     },
     "execution_count": 40,
     "metadata": {},
     "output_type": "execute_result"
    },
    {
     "data": {
      "image/png": "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",
      "text/plain": [
       "<Figure size 432x288 with 1 Axes>"
      ]
     },
     "metadata": {
      "needs_background": "light"
     },
     "output_type": "display_data"
    }
   ],
   "source": [
    "plt.scatter(outputs,targets)"
   ]
  },
},
  {
   "cell_type": "code",
   "execution_count": null,
   "metadata": {},
   "outputs": [],
   "source": []
  }
 ],
 "metadata": {
  "kernelspec": {
   "display_name": "Python 3",
   "language": "python",
   "name": "python3"
  },
  "language_info": {
   "codemirror_mode": {
    "name": "ipython",
    "version": 3
   },
   "file_extension": ".py",
   "mimetype": "text/x-python",
   "name": "python",
   "nbconvert_exporter": "python",
   "pygments_lexer": "ipython3",
   "version": "3.8.5"
  }
 },
 "nbformat": 4,
 "nbformat_minor": 4
}
